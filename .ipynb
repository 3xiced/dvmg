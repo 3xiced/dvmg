{
 "cells": [
  {
   "cell_type": "code",
   "execution_count": 5,
   "metadata": {},
   "outputs": [
    {
     "name": "stdout",
     "output_type": "stream",
     "text": [
      "160 563.8564159763147\n",
      "160 0.01 160 1000 0.026022228322489425 0.570121609198389 276.1435840236853 482.57003733904884\n"
     ]
    },
    {
     "data": {
      "text/plain": [
       "Text(0, 0.5, 'λ')"
      ]
     },
     "execution_count": 5,
     "metadata": {},
     "output_type": "execute_result"
    },
    {
     "data": {
      "image/png": "[encoded data removed]",
      "text/plain": [
       "<Figure size 640x480 with 1 Axes>"
      ]
     },
     "metadata": {},
     "output_type": "display_data"
    }
   ],
   "source": [
    "from app.dvmg.patterns import *\n",
    "from app.dvmg.worker import *\n",
    "from app.dvmg.processors import *\n",
    "\n",
    "from matplotlib import pyplot as plt\n",
    "\n",
    "# settings = Settings(\n",
    "#                 to_generate=1000, min_x=160, min_y=0.01,\n",
    "#                 min_anomaly_height=0.2, min_end_x=160,\n",
    "#                 x_limit=1000, max_gap_y_bottom=0.2, is_random=True\n",
    "#             )\n",
    "# generatorWorker = GeneratorWorker(\n",
    "#         settings, Sigmoid(), ExponentialProcessor())\n",
    "\n",
    "settings = Settings(\n",
    "                to_generate=1000, min_x=160, min_y=0.01,\n",
    "                min_anomaly_height=0.2, min_end_x=160,\n",
    "                x_limit=1000, max_gap_y_bottom=0.2, is_random=True\n",
    "            )\n",
    "generatorWorker = GeneratorWorker(\n",
    "        settings, SigmoidReversed(), ExponentialProcessor())\n",
    "\n",
    "# settings = Settings(\n",
    "#                 to_generate=1000, min_x=160, min_y=0.01,\n",
    "#                 min_anomaly_height=0.2, min_end_x=160,\n",
    "#                 x_limit=1000, max_gap_y_bottom=0.2, is_random=True\n",
    "#             )\n",
    "# generatorWorker = GeneratorWorker(\n",
    "#         settings, Normal(), ExponentialProcessor())\n",
    "\n",
    "# settings = Settings(\n",
    "#                 to_generate=1000, min_x=160, min_y=0.01,\n",
    "#                 min_anomaly_height=0.2, min_end_x=160,\n",
    "#                 x_limit=1000, is_random=True\n",
    "#             )\n",
    "# generatorWorker = GeneratorWorker(\n",
    "#         settings, NormalFlipped(), ExponentialProcessor())\n",
    "\n",
    "# settings = Settings(\n",
    "#                 to_generate=1000, min_x=160, min_y=0.01,\n",
    "#                 min_anomaly_height=0.2, min_end_x=160,\n",
    "#                 x_limit=1000, max_gap_y_bottom=0.1, is_random=True\n",
    "#             )\n",
    "# generatorWorker = GeneratorWorker(\n",
    "#         settings, LinearIncrease(), ExponentialProcessor())\n",
    "\n",
    "# settings = Settings(\n",
    "#                 to_generate=1000, min_x=160, min_y=0.01,\n",
    "#                 min_anomaly_height=0.2, min_end_x=160,\n",
    "#                 x_limit=1000, max_gap_y_bottom=0.1, is_random=True\n",
    "#             )\n",
    "# generatorWorker = GeneratorWorker(\n",
    "#         settings, LinearDecrease(), ExponentialProcessor())\n",
    "\n",
    "\n",
    "coordinates, processed_coordinates = generatorWorker.run()\n",
    "\n",
    "plt.plot(coordinates.keys(), coordinates.values())\n",
    "plt.yticks([0.1, 0.2, 0.3, 0.4, 0.5, 0.6, 0.7, 0.8, 0.9, 1])\n",
    "plt.xlabel(\"время, с\")\n",
    "plt.ylabel(\"λ\")\n",
    "\n"
   ]
  },
  {
   "cell_type": "code",
   "execution_count": null,
   "metadata": {},
   "outputs": [],
   "source": [
    "import numpy as np\n",
    "\n",
    "class Perceptron:\n",
    "    def __init__(self, lr=0.01, epochs=9):\n",
    "        self.lr = lr\n",
    "        self.epochs = epochs\n",
    "\n",
    "    def fit(self, X, y):\n",
    "        \"\"\"\n",
    "        Our fit function trains on the dataset X and tries to predict vector y,\n",
    "        Using the learning rate, it will modify it's weight vector to increase\n",
    "        it's accuracy in predictions.\n",
    "        It will iterate over the X dataset as defined by the epochs.\n",
    "        Args:\n",
    "            X: The input data (numpy array of shape [n_samples * m_features])\n",
    "            y: Class labels vector (numpy array of shape [n_samples])\n",
    "        \"\"\"\n",
    "        # a vector of floats between 0 and 1\n",
    "        weights = np.random.rand(X.shape[1],)\n",
    "        print(X.shape[1])\n",
    "\n",
    "        for epoch in range(self.epochs):\n",
    "            # list of predicted classes for our accuracy calculation\n",
    "            predicted = []\n",
    "            for i_index, sample in enumerate(X):\n",
    "                y_hat = self.predict(sample, weights)\n",
    "                predicted.append(y_hat)  # add our new prediction to the array\n",
    "                for j_index, feature in enumerate(weights):\n",
    "                    # update our weight values\n",
    "                    delta = self.lr * (y[i_index] - y_hat)\n",
    "                    delta = delta * sample[j_index-1]\n",
    "                    weights[j_index-1] = weights[j_index-1] + delta\n",
    "            # print(weights)\n",
    "            print('[Epoch {ep}] Accuracy: {acc}'.format(\n",
    "                ep=epoch, acc=self._calculate_accuracy(y, predicted)\n",
    "            ))\n",
    "        self._weights = weights\n",
    "\n",
    "    def _calculate_accuracy(self, actual, predicted):\n",
    "        \"\"\"\n",
    "        Calculate the accuracy of predictions for this epoch.\n",
    "        Args:\n",
    "            actual: vector of actual class values (the y vector) [n_samples]\n",
    "            predicted: vector of predicted class values [n_samples]\n",
    "        \"\"\"\n",
    "        # print(actual, predicted)\n",
    "        return sum(np.array(predicted) == np.array(actual)) / float(len(actual))\n",
    "\n",
    "    def predict(self, x, w):\n",
    "        \"\"\"\n",
    "        Create a binary prediction from an activation function on the data\n",
    "        sample and the weight vector.\n",
    "        Args:\n",
    "            x: vector of the data sample - shape [m_features]\n",
    "            w: vector of the weights - shape [m_features]\n",
    "        Returns:\n",
    "            0 or 1\n",
    "        \"\"\"\n",
    "        res = self._sum(x, w)\n",
    "        print(x, w, res)\n",
    "        return 1 if res > 0.0 else 0.0\n",
    "\n",
    "    def _sum(self, x, w):\n",
    "        \"\"\"\n",
    "        Multiply our sample and weight vector elements then the sum of the\n",
    "        result.\n",
    "        Args:\n",
    "            x: vector of the data sample - shape [m_features]\n",
    "            w: vector of the weights - shape [m_features]\n",
    "        Returns:\n",
    "            Int of the sum of vector products\n",
    "        \"\"\"\n",
    "        return np.sum(np.dot(x, np.transpose(w)))\n",
    "\n",
    "\n",
    "p = Perceptron()\n",
    "X = np.random.randint(20, size=(5, 6))\n",
    "y = np.random.randint(2, size=(5,))\n",
    "print(X,y)\n",
    "p.fit(X, y)\n",
    "print(p.predict(np.random.randint(20, size=(6)), p._weights))"
   ]
  }
 ],
 "metadata": {
  "kernelspec": {
   "display_name": "Python 3.10.8 ('env': venv)",
   "language": "python",
   "name": "python3"
  },
  "language_info": {
   "codemirror_mode": {
    "name": "ipython",
    "version": 3
   },
   "file_extension": ".py",
   "mimetype": "text/x-python",
   "name": "python",
   "nbconvert_exporter": "python",
   "pygments_lexer": "ipython3",
   "version": "3.10.9 (tags/v3.10.9:1dd9be6, Dec  6 2022, 20:01:21) [MSC v.1934 64 bit (AMD64)]"
  },
  "orig_nbformat": 4,
  "vscode": {
   "interpreter": {
    "hash": "5102983151a502f0b3c21dd441eb79f35619ea9e057c95bc886ff9f2b76b13c5"
   }
  }
 },
 "nbformat": 4,
 "nbformat_minor": 2
}
